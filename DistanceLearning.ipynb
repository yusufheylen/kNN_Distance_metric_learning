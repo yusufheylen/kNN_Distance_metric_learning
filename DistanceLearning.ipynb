{
 "cells": [
  {
   "cell_type": "code",
   "execution_count": 1,
   "metadata": {
    "colab": {},
    "colab_type": "code",
    "id": "C7HVp3qcxqml"
   },
   "outputs": [],
   "source": [
    "import numpy as np\n",
    "import matplotlib.pyplot as plt\n",
    "\n",
    "from sklearn.datasets import load_iris, load_wine\n",
    "from sklearn.model_selection import train_test_split\n",
    "from scipy.stats import mode\n",
    "from scipy.spatial import distance as sci_distance"
   ]
  },
  {
   "cell_type": "code",
   "execution_count": 2,
   "metadata": {
    "colab": {},
    "colab_type": "code",
    "id": "1lCZ868mxqmt"
   },
   "outputs": [],
   "source": [
    "iris = load_iris()\n",
    "X_iris = iris.data\n",
    "Y_iris = iris.target"
   ]
  },
  {
   "cell_type": "code",
   "execution_count": 3,
   "metadata": {
    "colab": {},
    "colab_type": "code",
    "id": "b77NY9RLxqmy",
    "scrolled": false
   },
   "outputs": [],
   "source": [
    "X_iris_train, X_iris_test, Y_iris_train, Y_iris_test = train_test_split(X_iris, Y_iris, test_size = 0.5)"
   ]
  },
  {
   "cell_type": "code",
   "execution_count": 4,
   "metadata": {
    "colab": {
     "base_uri": "https://localhost:8080/",
     "height": 34
    },
    "colab_type": "code",
    "id": "3t45GCfMy1TK",
    "outputId": "d07108c1-3110-4631-d678-0c0100aecc65"
   },
   "outputs": [
    {
     "data": {
      "text/plain": [
       "(75,)"
      ]
     },
     "execution_count": 4,
     "metadata": {},
     "output_type": "execute_result"
    }
   ],
   "source": [
    "Y_iris_train.shape"
   ]
  },
  {
   "cell_type": "code",
   "execution_count": 5,
   "metadata": {
    "colab": {},
    "colab_type": "code",
    "id": "jFyNkAC21qTa"
   },
   "outputs": [],
   "source": [
    "def euclideanDistance(x_a, x_b):\n",
    "    \"\"\"\n",
    "    Calculates the Euclidean distance between two vectors\n",
    "    \n",
    "    Arguments:\n",
    "        x_a (np.array): shape [m_features, ] a single vector a\n",
    "        x_b (np.array): shape [m_features, ] a single vector b\n",
    "    \n",
    "    Returns:\n",
    "        distance (float): Euclidean distance between vectors x_a and x_b\n",
    "    \"\"\"\n",
    "    \n",
    "    return minkowskiDistance(x_a, x_b, 2)"
   ]
  },
  {
   "cell_type": "code",
   "execution_count": 6,
   "metadata": {
    "colab": {},
    "colab_type": "code",
    "id": "USFzuEPIR9Zc"
   },
   "outputs": [],
   "source": [
    "def manhattanDistance(x_a, x_b):\n",
    "    \"\"\"\n",
    "    Calculates the Manhattan distance between two vectors\n",
    "    \n",
    "    Arguments:\n",
    "        x_a (np.array): shape [m_features, ] a single vector a\n",
    "        x_b (np.array): shape [m_features, ] a single vector b\n",
    "    \n",
    "    Returns:\n",
    "        distance (float): Manhattan distance between vectors x_a and x_b\n",
    "    \"\"\"\n",
    "    return minkowskiDistance(x_a, x_b, 1)"
   ]
  },
  {
   "cell_type": "code",
   "execution_count": 7,
   "metadata": {
    "colab": {},
    "colab_type": "code",
    "id": "kizXkhXNR542"
   },
   "outputs": [],
   "source": [
    "def chebyshevDistance(x_a, x_b):\n",
    "    \"\"\"\n",
    "    Calculates the Chebyshev distance between two vectors\n",
    "    \n",
    "    Arguments:\n",
    "        x_a (np.array): shape [m_features, ] a single vector a\n",
    "        x_b (np.array): shape [m_features, ] a single vector b\n",
    "    \n",
    "    Returns:\n",
    "        distance (float): Chebyshev distance between vectors x_a and x_b\n",
    "    \"\"\"\n",
    "    \n",
    "    distance = np.max( np.abs(x_a - x_b) ) \n",
    "    return distance"
   ]
  },
  {
   "cell_type": "code",
   "execution_count": 8,
   "metadata": {
    "colab": {},
    "colab_type": "code",
    "id": "AbY4dzTwR7ZD"
   },
   "outputs": [],
   "source": [
    "def minkowskiDistance(x_a, x_b, p=2):\n",
    "    \"\"\"\n",
    "    Calculates the minkowski distance between two vectors\n",
    "    \n",
    "    Arguments:\n",
    "        x_a (np.array): shape [m_features, ] a single vector a\n",
    "        x_b (np.array): shape [m_features, ] a single vector b\n",
    "        p (int): Sets the Lp distance metric to use:\n",
    "            1 - Manhattan\n",
    "            2 - Euclidian \n",
    "            inf - Chebyshev\n",
    "    \n",
    "    Returns:\n",
    "        distance (float): Minkowski distance between vectors x_a and x_b\n",
    "    \"\"\"\n",
    "    \n",
    "    distance = np.sum(np.abs(x_a - x_b)**p)**(1/p)\n",
    "    return distance"
   ]
  },
  {
   "cell_type": "code",
   "execution_count": 9,
   "metadata": {},
   "outputs": [],
   "source": [
    "def mahalanobisDistance(x_a, x_b, iCov):\n",
    "    return sci_distance.mahalanobis(x_a, x_b, iCov)"
   ]
  },
  {
   "cell_type": "code",
   "execution_count": 10,
   "metadata": {},
   "outputs": [],
   "source": [
    "def idealKernelMatrix(Y_in, l=0.5):\n",
    "    Y_in_KD  = np.zeros(shape=(Y_in.shape[0], (max(Y_in)+1) ))\n",
    "\n",
    "    for i in range(Y_in.shape[0]):\n",
    "        Y_in_KD[i][Y_in[i]] = 1\n",
    "    Y_in_KD = Y_in_KD.T #In the paper they have m and n swapped\n",
    "    return (Y_in_KD.T)@(Y_in_KD) + l*np.identity(Y_in_KD.shape[1])    "
   ]
  },
  {
   "cell_type": "code",
   "execution_count": 11,
   "metadata": {},
   "outputs": [],
   "source": [
    "def optimalDistanceMetric(X_in, Y_in):\n",
    "    X_in = X_in.T #In the paper they have m and n swapped\n",
    "    iKD = np.linalg.inv(idealKernelMatrix(Y_in))\n",
    "    return np.linalg.inv( X_in@iKD@X_in.T )"
   ]
  },
  {
   "cell_type": "code",
   "execution_count": 12,
   "metadata": {},
   "outputs": [],
   "source": [
    "def optimalDistance(x_a, x_b, A):\n",
    "    return np.sqrt( (x_a - x_b).T@A@(x_a - x_b) )"
   ]
  },
  {
   "cell_type": "code",
   "execution_count": 13,
   "metadata": {
    "colab": {},
    "colab_type": "code",
    "id": "YYy2Tsm-18EL"
   },
   "outputs": [],
   "source": [
    "def calculateDistances(x_test, X_in, Y_in, distanceFunction):\n",
    "    \"\"\"\n",
    "    Calculates the distance between a single test example, x_test,\n",
    "    and a list of examples X_in. \n",
    "    \n",
    "    Args:\n",
    "        x_test (np.array): shape [n_features,] a single test example\n",
    "        X_in (np.array): shape [n_samples, n_features] a list of examples to compare against.\n",
    "    \n",
    "    Returns:\n",
    "        distance_list (list of float): The list containing the distances       \n",
    "    \"\"\"\n",
    "    distance_list = []\n",
    "    if distanceFunction == optimalDistance:\n",
    "        A = optimalDistanceMetric(X_in, Y_in)\n",
    "        for example in X_in:\n",
    "            distance_list.append(distanceFunction(example, x_test, A))\n",
    "        \n",
    "    elif distanceFunction == mahalanobisDistance:\n",
    "        iCov = np.linalg.inv(np.cov(X_in, rowvar=False))\n",
    "        for example in X_in:\n",
    "            distance_list.append(distanceFunction(example, x_test, iCov))\n",
    "    else:\n",
    "        for example in X_in:\n",
    "            distance_list.append(distanceFunction(example, x_test))\n",
    "    return distance_list"
   ]
  },
  {
   "cell_type": "code",
   "execution_count": 14,
   "metadata": {
    "colab": {},
    "colab_type": "code",
    "id": "KsigGIIq_C-g"
   },
   "outputs": [],
   "source": [
    "def kNearestIndices(distance_list, k):\n",
    "    \"\"\"\n",
    "    Determines the indices of the k nearest neighbours\n",
    "    \n",
    "    Arguments:\n",
    "        distance_list (list of float): list of distances between a test point \n",
    "            and every training example\n",
    "        k (int): the number of nearest neighbours to consider\n",
    "    \n",
    "    Returns:\n",
    "        k_nearest_indices (array of int): shape [k,] array of the indices \n",
    "            corresponding to the k nearest neighbours\n",
    "    \"\"\"\n",
    "    \n",
    "    k_nearest_indices = np.array( np.argsort(distance_list)[:k] )\n",
    "    return k_nearest_indices"
   ]
  },
  {
   "cell_type": "code",
   "execution_count": 15,
   "metadata": {
    "colab": {},
    "colab_type": "code",
    "id": "BkslmTWP_Ff4"
   },
   "outputs": [],
   "source": [
    "def kNearestNeighbours(k_nearest_indices, X_in, Y_in):\n",
    "    \"\"\"\n",
    "    Creates the dataset of k nearest neighbours\n",
    "    \n",
    "    Arguments:\n",
    "        k_nearest_indices (array of int): shape [k,] array of the indices \n",
    "            corresponding to the k nearest neighbours\n",
    "        X_in (array): shape [n_examples, n_features] the example data matrix to sample from\n",
    "        Y_in (array): shape [n_examples, ] the label data matrix to sample from\n",
    "    \n",
    "    Returns:\n",
    "        X_k (array): shape [k, n_features] the k nearest examples\n",
    "        Y_k (array): shape [k, ] the labels corresponding to the k nearest examples\n",
    "    \"\"\"\n",
    "    \n",
    "    X_k = []\n",
    "    Y_k = []\n",
    "\n",
    "    for i in k_nearest_indices:\n",
    "        X_k.append(X_in[i])\n",
    "        Y_k.append(Y_in[i])\n",
    "        \n",
    "    X_k = np.array(X_k)\n",
    "    Y_k = np.array(Y_k)\n",
    "    return X_k, Y_k"
   ]
  },
  {
   "cell_type": "code",
   "execution_count": 16,
   "metadata": {
    "colab": {},
    "colab_type": "code",
    "id": "wzOAG3_I_L8t"
   },
   "outputs": [],
   "source": [
    "def predict(x_test, X_in, Y_in, k, distanceFunction):\n",
    "    \"\"\"\n",
    "    Predicts the class of a single test example\n",
    "    \n",
    "    Arguments:\n",
    "        x_test (np.array): shape [n_features, ] the test example to classify\n",
    "        X_in (np.array): shape [n_input_examples, n_features] the example data matrix to sample from\n",
    "        Y_in (np.array): shape [n_input_labels, ] the label data matrix to sample from\n",
    "    \n",
    "    Returns:\n",
    "        prediction (array): shape [1,] the number corresponding to the class \n",
    "    \"\"\"\n",
    "    distance_list = calculateDistances(x_test, X_in, Y_in, distanceFunction)\n",
    "    kNN_indices = kNearestIndices(distance_list, k)\n",
    "    X_k, Y_k = kNearestNeighbours(kNN_indices, X_in, Y_in)\n",
    "    prediction =  mode(Y_k, axis=None)[0]\n",
    "\n",
    "    return prediction"
   ]
  },
  {
   "cell_type": "code",
   "execution_count": 17,
   "metadata": {
    "colab": {},
    "colab_type": "code",
    "id": "E30hROb9_RZ_"
   },
   "outputs": [],
   "source": [
    "def predictBatch(X_t, X_in, Y_in, k, distanceFunction):\n",
    "    \"\"\"\n",
    "    Performs predictions over a batch of test examples\n",
    "    \n",
    "    Arguments:\n",
    "        X_t (np.array): shape [n_test_examples, n_features]\n",
    "        X_in (np.array): shape [n_input_examples, n_features]\n",
    "        Y_in (np.array): shape [n_input_labels, ]\n",
    "        k (int): number of nearest neighbours to consider\n",
    "    \n",
    "    Returns:\n",
    "        predictions (np.array): shape [n_test_examples,] the array of predictions\n",
    "        \n",
    "    \"\"\"\n",
    "    predictions = []\n",
    "    for x_t_i in X_t:\n",
    "        predictions.append(predict(x_t_i, X_in, Y_in, k, distanceFunction)[0])\n",
    "    \n",
    "    return np.array(predictions)"
   ]
  },
  {
   "cell_type": "code",
   "execution_count": 18,
   "metadata": {
    "colab": {},
    "colab_type": "code",
    "id": "0WR3rGUp_U0R"
   },
   "outputs": [],
   "source": [
    "def accuracy(Y_pred, Y_test):\n",
    "    \"\"\"\n",
    "    Calculates the accuracy of the model \n",
    "    \n",
    "    Arguments:\n",
    "        Y_pred (np.array): shape [n_test_examples,] an array of model predictions\n",
    "        Y_test (np.array): shape [n_test_labels,] an array of test labels to \n",
    "            evaluate the predictions against\n",
    "    \n",
    "    Returns:\n",
    "        accuracy (float): the accuracy of the model\n",
    "    \"\"\"\n",
    "    assert(Y_pred.shape == Y_test.shape)\n",
    "    \n",
    "    correct = 0\n",
    "    total = len(Y_test)\n",
    "\n",
    "    for i in range(total):\n",
    "        if (Y_pred[i] == Y_test[i]):\n",
    "            correct += 1\n",
    "    \n",
    "    accuracy = correct/total\n",
    "    return accuracy"
   ]
  },
  {
   "cell_type": "code",
   "execution_count": 19,
   "metadata": {
    "colab": {},
    "colab_type": "code",
    "id": "LdgnzCID_XXZ"
   },
   "outputs": [],
   "source": [
    "def run(X_train, X_test, Y_train, Y_test, k, distanceFunction=euclideanDistance):\n",
    "    \"\"\"\n",
    "    Evaluates the model on the test data\n",
    "    \n",
    "    Arguments:\n",
    "        X_train (np.array): shape [n_train_examples, n_features]\n",
    "        X_test (np.array): shape [n_test_examples, n_features]\n",
    "        Y_train (np.array): shape [n_train_examples, ]\n",
    "        Y_test (np.array): shape [n_test_examples, ]\n",
    "        k (int): number of nearest neighbours to consider\n",
    "    \n",
    "    Returns:\n",
    "        test_accuracy (float): the final accuracy of your model \n",
    "    \"\"\"\n",
    "    Y_pred = predictBatch(X_test, X_train, Y_train, k, distanceFunction)\n",
    "    test_accuracy = accuracy(Y_pred, Y_test)\n",
    "\n",
    "    return test_accuracy"
   ]
  },
  {
   "cell_type": "code",
   "execution_count": 20,
   "metadata": {
    "colab": {
     "base_uri": "https://localhost:8080/",
     "height": 34
    },
    "colab_type": "code",
    "id": "_VJBnVve_j0w",
    "outputId": "2ec555ff-5411-4873-c244-276eaf86438e"
   },
   "outputs": [
    {
     "name": "stdout",
     "output_type": "stream",
     "text": [
      "0.9866666666666667\n"
     ]
    }
   ],
   "source": [
    "print( run(X_iris_train, X_iris_test, Y_iris_train, Y_iris_test, 4, manhattanDistance) ) "
   ]
  },
  {
   "cell_type": "code",
   "execution_count": 21,
   "metadata": {
    "colab": {
     "base_uri": "https://localhost:8080/",
     "height": 34
    },
    "colab_type": "code",
    "id": "muIRS0p7U_Of",
    "outputId": "e90fbbf5-af7d-4a57-b7de-4b12d77e64fb"
   },
   "outputs": [
    {
     "name": "stdout",
     "output_type": "stream",
     "text": [
      "0.9866666666666667\n"
     ]
    }
   ],
   "source": [
    "print( run(X_iris_train, X_iris_test, Y_iris_train, Y_iris_test, 4, chebyshevDistance) ) "
   ]
  },
  {
   "cell_type": "code",
   "execution_count": 22,
   "metadata": {
    "colab": {
     "base_uri": "https://localhost:8080/",
     "height": 34
    },
    "colab_type": "code",
    "id": "9glHJciMVA55",
    "outputId": "a8cbae17-4c9c-4d93-d5d4-d14b5a068b76"
   },
   "outputs": [
    {
     "name": "stdout",
     "output_type": "stream",
     "text": [
      "0.9866666666666667\n"
     ]
    }
   ],
   "source": [
    "print( run(X_iris_train, X_iris_test, Y_iris_train, Y_iris_test, 4, euclideanDistance) ) "
   ]
  },
  {
   "cell_type": "code",
   "execution_count": 23,
   "metadata": {},
   "outputs": [
    {
     "name": "stdout",
     "output_type": "stream",
     "text": [
      "(4, 4)\n",
      "(4, 4)\n",
      "(4, 4)\n",
      "(4, 4)\n",
      "(4, 4)\n",
      "(4, 4)\n",
      "(4, 4)\n",
      "(4, 4)\n",
      "(4, 4)\n",
      "(4, 4)\n",
      "(4, 4)\n",
      "(4, 4)\n",
      "(4, 4)\n",
      "(4, 4)\n",
      "(4, 4)\n",
      "(4, 4)\n",
      "(4, 4)\n",
      "(4, 4)\n",
      "(4, 4)\n",
      "(4, 4)\n",
      "(4, 4)\n",
      "(4, 4)\n",
      "(4, 4)\n",
      "(4, 4)\n",
      "(4, 4)\n",
      "(4, 4)\n",
      "(4, 4)\n",
      "(4, 4)\n",
      "(4, 4)\n",
      "(4, 4)\n",
      "(4, 4)\n",
      "(4, 4)\n",
      "(4, 4)\n",
      "(4, 4)\n",
      "(4, 4)\n",
      "(4, 4)\n",
      "(4, 4)\n",
      "(4, 4)\n",
      "(4, 4)\n",
      "(4, 4)\n",
      "(4, 4)\n",
      "(4, 4)\n",
      "(4, 4)\n",
      "(4, 4)\n",
      "(4, 4)\n",
      "(4, 4)\n",
      "(4, 4)\n",
      "(4, 4)\n",
      "(4, 4)\n",
      "(4, 4)\n",
      "(4, 4)\n",
      "(4, 4)\n",
      "(4, 4)\n",
      "(4, 4)\n",
      "(4, 4)\n",
      "(4, 4)\n",
      "(4, 4)\n",
      "(4, 4)\n",
      "(4, 4)\n",
      "(4, 4)\n",
      "(4, 4)\n",
      "(4, 4)\n",
      "(4, 4)\n",
      "(4, 4)\n",
      "(4, 4)\n",
      "(4, 4)\n",
      "(4, 4)\n",
      "(4, 4)\n",
      "(4, 4)\n",
      "(4, 4)\n",
      "(4, 4)\n",
      "(4, 4)\n",
      "(4, 4)\n",
      "(4, 4)\n",
      "(4, 4)\n",
      "0.8933333333333333\n"
     ]
    }
   ],
   "source": [
    "print( run(X_iris_train, X_iris_test, Y_iris_train, Y_iris_test, 4, mahalanobisDistance) ) "
   ]
  },
  {
   "cell_type": "code",
   "execution_count": 24,
   "metadata": {},
   "outputs": [
    {
     "name": "stdout",
     "output_type": "stream",
     "text": [
      "(4, 4)\n",
      "(4, 4)\n",
      "(4, 4)\n",
      "(4, 4)\n",
      "(4, 4)\n",
      "(4, 4)\n",
      "(4, 4)\n",
      "(4, 4)\n",
      "(4, 4)\n",
      "(4, 4)\n",
      "(4, 4)\n",
      "(4, 4)\n",
      "(4, 4)\n",
      "(4, 4)\n",
      "(4, 4)\n",
      "(4, 4)\n",
      "(4, 4)\n",
      "(4, 4)\n",
      "(4, 4)\n",
      "(4, 4)\n",
      "(4, 4)\n",
      "(4, 4)\n",
      "(4, 4)\n",
      "(4, 4)\n",
      "(4, 4)\n",
      "(4, 4)\n",
      "(4, 4)\n",
      "(4, 4)\n",
      "(4, 4)\n",
      "(4, 4)\n",
      "(4, 4)\n",
      "(4, 4)\n",
      "(4, 4)\n",
      "(4, 4)\n",
      "(4, 4)\n",
      "(4, 4)\n",
      "(4, 4)\n",
      "(4, 4)\n",
      "(4, 4)\n",
      "(4, 4)\n",
      "(4, 4)\n",
      "(4, 4)\n",
      "(4, 4)\n",
      "(4, 4)\n",
      "(4, 4)\n",
      "(4, 4)\n",
      "(4, 4)\n",
      "(4, 4)\n",
      "(4, 4)\n",
      "(4, 4)\n",
      "(4, 4)\n",
      "(4, 4)\n",
      "(4, 4)\n",
      "(4, 4)\n",
      "(4, 4)\n",
      "(4, 4)\n",
      "(4, 4)\n",
      "(4, 4)\n",
      "(4, 4)\n",
      "(4, 4)\n",
      "(4, 4)\n",
      "(4, 4)\n",
      "(4, 4)\n",
      "(4, 4)\n",
      "(4, 4)\n",
      "(4, 4)\n",
      "(4, 4)\n",
      "(4, 4)\n",
      "(4, 4)\n",
      "(4, 4)\n",
      "(4, 4)\n",
      "(4, 4)\n",
      "(4, 4)\n",
      "(4, 4)\n",
      "(4, 4)\n",
      "0.9733333333333334\n"
     ]
    }
   ],
   "source": [
    "print( run(X_iris_train, X_iris_test, Y_iris_train, Y_iris_test, 4, optimalDistance) ) "
   ]
  },
  {
   "cell_type": "code",
   "execution_count": 25,
   "metadata": {
    "colab": {
     "base_uri": "https://localhost:8080/",
     "height": 34
    },
    "colab_type": "code",
    "id": "fpVt68mPTG3a",
    "outputId": "50a91df1-f5b8-4424-d738-bc1c765677fb"
   },
   "outputs": [
    {
     "name": "stdout",
     "output_type": "stream",
     "text": [
      "4\n"
     ]
    }
   ],
   "source": [
    "row1 = np.array([10, 20, 15, 10, 5])\n",
    "row2 = np.array([12, 24, 18, 8, 7])\n",
    "print(chebyshevDistance(row1, row2))"
   ]
  },
  {
   "cell_type": "code",
   "execution_count": 26,
   "metadata": {
    "colab": {
     "base_uri": "https://localhost:8080/",
     "height": 34
    },
    "colab_type": "code",
    "id": "atLTe0ElTLnN",
    "outputId": "211a087d-ae4b-49f7-8ef9-e5507133e719"
   },
   "outputs": [
    {
     "name": "stdout",
     "output_type": "stream",
     "text": [
      "7\n"
     ]
    }
   ],
   "source": [
    "row1 = np.array([0, 3, 4, 5])\n",
    "row2 = np.array([7, 6, 3, -1])\n",
    "print(chebyshevDistance(row1, row2))"
   ]
  },
  {
   "cell_type": "code",
   "execution_count": 27,
   "metadata": {
    "colab": {},
    "colab_type": "code",
    "id": "yJOQ5m1FT9UN"
   },
   "outputs": [
    {
     "data": {
      "text/plain": [
       "array([[7.7, 2.6, 6.9, 2.3],\n",
       "       [5.5, 2.5, 4. , 1.3],\n",
       "       [6. , 2.2, 5. , 1.5],\n",
       "       [6.9, 3.2, 5.7, 2.3],\n",
       "       [6.4, 2.8, 5.6, 2.2],\n",
       "       [6.7, 3.3, 5.7, 2.1],\n",
       "       [7.1, 3. , 5.9, 2.1],\n",
       "       [5.2, 2.7, 3.9, 1.4],\n",
       "       [4.5, 2.3, 1.3, 0.3],\n",
       "       [5.1, 3.4, 1.5, 0.2],\n",
       "       [6. , 3. , 4.8, 1.8],\n",
       "       [6.5, 3.2, 5.1, 2. ],\n",
       "       [6.1, 2.8, 4.7, 1.2],\n",
       "       [4.6, 3.4, 1.4, 0.3],\n",
       "       [5. , 3. , 1.6, 0.2],\n",
       "       [6.2, 2.2, 4.5, 1.5],\n",
       "       [5. , 3.5, 1.6, 0.6],\n",
       "       [6.8, 2.8, 4.8, 1.4],\n",
       "       [4.4, 3. , 1.3, 0.2],\n",
       "       [6.3, 2.5, 5. , 1.9],\n",
       "       [5.4, 3.4, 1.5, 0.4],\n",
       "       [6.2, 2.9, 4.3, 1.3],\n",
       "       [6.3, 2.8, 5.1, 1.5],\n",
       "       [6.4, 3.1, 5.5, 1.8],\n",
       "       [6.4, 3.2, 5.3, 2.3],\n",
       "       [5.5, 3.5, 1.3, 0.2],\n",
       "       [5.7, 3.8, 1.7, 0.3],\n",
       "       [6.4, 2.9, 4.3, 1.3],\n",
       "       [6.4, 2.7, 5.3, 1.9],\n",
       "       [6.6, 2.9, 4.6, 1.3],\n",
       "       [5.5, 2.6, 4.4, 1.2],\n",
       "       [5. , 3.3, 1.4, 0.2],\n",
       "       [4.9, 3.1, 1.5, 0.1],\n",
       "       [6.7, 2.5, 5.8, 1.8],\n",
       "       [5. , 3.6, 1.4, 0.2],\n",
       "       [7.6, 3. , 6.6, 2.1],\n",
       "       [4.8, 3. , 1.4, 0.3],\n",
       "       [6.5, 3. , 5.5, 1.8],\n",
       "       [5.4, 3. , 4.5, 1.5],\n",
       "       [5. , 2.3, 3.3, 1. ],\n",
       "       [7.4, 2.8, 6.1, 1.9],\n",
       "       [5.5, 2.4, 3.8, 1.1],\n",
       "       [5.3, 3.7, 1.5, 0.2],\n",
       "       [4.3, 3. , 1.1, 0.1],\n",
       "       [5.4, 3.9, 1.7, 0.4],\n",
       "       [5.6, 3. , 4.1, 1.3],\n",
       "       [6.1, 3. , 4.9, 1.8],\n",
       "       [5.8, 2.7, 5.1, 1.9],\n",
       "       [5.1, 3.5, 1.4, 0.2],\n",
       "       [5.8, 2.7, 5.1, 1.9],\n",
       "       [6. , 3.4, 4.5, 1.6],\n",
       "       [5.2, 3.5, 1.5, 0.2],\n",
       "       [5. , 3.4, 1.6, 0.4],\n",
       "       [5.7, 2.6, 3.5, 1. ],\n",
       "       [6.8, 3. , 5.5, 2.1],\n",
       "       [5.1, 2.5, 3. , 1.1],\n",
       "       [6.5, 2.8, 4.6, 1.5],\n",
       "       [6.7, 3.3, 5.7, 2.5],\n",
       "       [5.7, 2.8, 4.5, 1.3],\n",
       "       [5.4, 3.4, 1.7, 0.2],\n",
       "       [6.9, 3.1, 5.1, 2.3],\n",
       "       [6.3, 2.5, 4.9, 1.5],\n",
       "       [6.4, 3.2, 4.5, 1.5],\n",
       "       [4.9, 2.5, 4.5, 1.7],\n",
       "       [4.6, 3.1, 1.5, 0.2],\n",
       "       [5.1, 3.8, 1.5, 0.3],\n",
       "       [5. , 3.4, 1.5, 0.2],\n",
       "       [6.7, 3. , 5. , 1.7],\n",
       "       [6.3, 2.9, 5.6, 1.8],\n",
       "       [5.8, 2.6, 4. , 1.2],\n",
       "       [5.8, 2.7, 3.9, 1.2],\n",
       "       [4.7, 3.2, 1.6, 0.2],\n",
       "       [6. , 2.9, 4.5, 1.5],\n",
       "       [5.7, 3. , 4.2, 1.2],\n",
       "       [4.7, 3.2, 1.3, 0.2]])"
      ]
     },
     "execution_count": 27,
     "metadata": {},
     "output_type": "execute_result"
    }
   ],
   "source": [
    "X_iris_train"
   ]
  },
  {
   "cell_type": "code",
   "execution_count": 28,
   "metadata": {},
   "outputs": [
    {
     "name": "stdout",
     "output_type": "stream",
     "text": [
      "[2 1 2 2 2 2 2 1 0 0 2 2 1 0 0 1 0 1 0 2 0 1 2 2 2 0 0 1 2 1 1 0 0 2 0 2 0\n",
      " 2 1 1 2 1 0 0 0 1 2 2 0 2 1 0 0 1 2 1 1 2 1 0 2 1 1 2 0 0 0 1 2 1 1 0 1 1\n",
      " 0]\n"
     ]
    }
   ],
   "source": [
    "print(Y_iris_train)"
   ]
  },
  {
   "cell_type": "code",
   "execution_count": 29,
   "metadata": {},
   "outputs": [
    {
     "name": "stdout",
     "output_type": "stream",
     "text": [
      "(3, 75)\n"
     ]
    }
   ],
   "source": [
    "Y_in_KD  = np.zeros(shape=(Y_iris_train.shape[0], (max(Y_iris_train)+1) ))\n",
    "\n",
    "for i in range(X_iris_train.shape[0]):\n",
    "    Y_in_KD[i][Y_iris_train[i]] = 1\n",
    "    \n",
    "Y_in_KD = Y_in_KD.T\n",
    "print(Y_in_KD.shape)"
   ]
  },
  {
   "cell_type": "code",
   "execution_count": 30,
   "metadata": {},
   "outputs": [
    {
     "name": "stdout",
     "output_type": "stream",
     "text": [
      "(75, 75)\n"
     ]
    }
   ],
   "source": [
    "print(idealKernelMatrix(Y_iris_train, l=0.3).shape)"
   ]
  },
  {
   "cell_type": "code",
   "execution_count": 31,
   "metadata": {},
   "outputs": [
    {
     "data": {
      "text/plain": [
       "array([[25.,  0.,  0.],\n",
       "       [ 0., 25.,  0.],\n",
       "       [ 0.,  0., 25.]])"
      ]
     },
     "execution_count": 31,
     "metadata": {},
     "output_type": "execute_result"
    }
   ],
   "source": [
    "Y_in_KD@Y_in_KD.T #TODO THE DIMS FIXXX"
   ]
  },
  {
   "cell_type": "code",
   "execution_count": 32,
   "metadata": {},
   "outputs": [
    {
     "data": {
      "text/plain": [
       "(3, 3)"
      ]
     },
     "execution_count": 32,
     "metadata": {},
     "output_type": "execute_result"
    }
   ],
   "source": [
    "(Y_in_KD@Y_in_KD.T).shape"
   ]
  },
  {
   "cell_type": "code",
   "execution_count": 33,
   "metadata": {},
   "outputs": [
    {
     "name": "stdout",
     "output_type": "stream",
     "text": [
      "[[1.3 0.  1.  ... 0.  0.  0. ]\n",
      " [0.  1.3 0.  ... 1.  1.  0. ]\n",
      " [1.  0.  1.3 ... 0.  0.  0. ]\n",
      " ...\n",
      " [0.  1.  0.  ... 1.3 1.  0. ]\n",
      " [0.  1.  0.  ... 1.  1.3 0. ]\n",
      " [0.  0.  0.  ... 0.  0.  1.3]]\n"
     ]
    }
   ],
   "source": [
    "print(idealKernelMatrix(Y_iris_train, l=0.3))"
   ]
  },
  {
   "cell_type": "code",
   "execution_count": 34,
   "metadata": {},
   "outputs": [
    {
     "name": "stdout",
     "output_type": "stream",
     "text": [
      "(4, 4)\n",
      "[[ 0.0692136  -0.0521936  -0.06483095  0.02282675]\n",
      " [-0.0521936   0.08897734  0.03411109 -0.04800189]\n",
      " [-0.06483095  0.03411109  0.1031973  -0.0934645 ]\n",
      " [ 0.02282675 -0.04800189 -0.0934645   0.29204287]]\n"
     ]
    }
   ],
   "source": [
    "print(optimalDistanceMetric(X_iris_train, Y_iris_train))"
   ]
  },
  {
   "cell_type": "code",
   "execution_count": 35,
   "metadata": {},
   "outputs": [
    {
     "name": "stdout",
     "output_type": "stream",
     "text": [
      "(75,)\n"
     ]
    }
   ],
   "source": [
    "print(Y_iris_train.shape)"
   ]
  },
  {
   "cell_type": "code",
   "execution_count": null,
   "metadata": {},
   "outputs": [],
   "source": []
  }
 ],
 "metadata": {
  "colab": {
   "collapsed_sections": [],
   "name": "DistanceLearning.ipynb",
   "provenance": []
  },
  "kernelspec": {
   "display_name": "Python 3",
   "language": "python",
   "name": "python3"
  },
  "language_info": {
   "codemirror_mode": {
    "name": "ipython",
    "version": 3
   },
   "file_extension": ".py",
   "mimetype": "text/x-python",
   "name": "python",
   "nbconvert_exporter": "python",
   "pygments_lexer": "ipython3",
   "version": "3.7.7"
  }
 },
 "nbformat": 4,
 "nbformat_minor": 1
}
