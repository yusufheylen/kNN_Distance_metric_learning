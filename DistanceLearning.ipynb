{
  "nbformat": 4,
  "nbformat_minor": 0,
  "metadata": {
    "kernelspec": {
      "display_name": "Python 3",
      "language": "python",
      "name": "python3"
    },
    "language_info": {
      "codemirror_mode": {
        "name": "ipython",
        "version": 3
      },
      "file_extension": ".py",
      "mimetype": "text/x-python",
      "name": "python",
      "nbconvert_exporter": "python",
      "pygments_lexer": "ipython3",
      "version": "3.7.7"
    },
    "colab": {
      "name": "DistanceLearning.ipynb",
      "provenance": [],
      "collapsed_sections": []
    }
  },
  "cells": [
    {
      "cell_type": "code",
      "metadata": {
        "id": "C7HVp3qcxqml",
        "colab_type": "code",
        "colab": {}
      },
      "source": [
        "import numpy as np\n",
        "import matplotlib.pyplot as plt\n",
        "\n",
        "from sklearn.datasets import load_iris, load_wine\n",
        "from sklearn.model_selection import train_test_split\n",
        "from scipy.stats import mode"
      ],
      "execution_count": 0,
      "outputs": []
    },
    {
      "cell_type": "code",
      "metadata": {
        "id": "1lCZ868mxqmt",
        "colab_type": "code",
        "colab": {}
      },
      "source": [
        "iris = load_iris()\n",
        "X_iris = iris.data\n",
        "Y_iris = iris.target"
      ],
      "execution_count": 0,
      "outputs": []
    },
    {
      "cell_type": "code",
      "metadata": {
        "scrolled": false,
        "id": "b77NY9RLxqmy",
        "colab_type": "code",
        "colab": {}
      },
      "source": [
        "X_iris_train, X_iris_test, Y_iris_train, Y_iris_test = train_test_split(X_iris, Y_iris, test_size = 0.5)"
      ],
      "execution_count": 0,
      "outputs": []
    },
    {
      "cell_type": "code",
      "metadata": {
        "id": "3t45GCfMy1TK",
        "colab_type": "code",
        "colab": {
          "base_uri": "https://localhost:8080/",
          "height": 34
        },
        "outputId": "d07108c1-3110-4631-d678-0c0100aecc65"
      },
      "source": [
        "Y_iris_train.shape"
      ],
      "execution_count": 4,
      "outputs": [
        {
          "output_type": "execute_result",
          "data": {
            "text/plain": [
              "(75,)"
            ]
          },
          "metadata": {
            "tags": []
          },
          "execution_count": 4
        }
      ]
    },
    {
      "cell_type": "code",
      "metadata": {
        "id": "jFyNkAC21qTa",
        "colab_type": "code",
        "colab": {}
      },
      "source": [
        "def euclideanDistance(x_a, x_b):\n",
        "    \"\"\"\n",
        "    Calculates the Euclidean distance between two vectors\n",
        "    \n",
        "    Arguments:\n",
        "        x_a (np.array): shape [m_features, ] a single vector a\n",
        "        x_b (np.array): shape [m_features, ] a single vector b\n",
        "    \n",
        "    Returns:\n",
        "        distance (float): Euclidean distance between vectors x_a and x_b\n",
        "    \"\"\"\n",
        "    \n",
        "    return minkowskiDistance(x_a, x_b, 2)"
      ],
      "execution_count": 0,
      "outputs": []
    },
    {
      "cell_type": "code",
      "metadata": {
        "id": "USFzuEPIR9Zc",
        "colab_type": "code",
        "colab": {}
      },
      "source": [
        "def manhattanDistance(x_a, x_b):\n",
        "    \"\"\"\n",
        "    Calculates the Manhattan distance between two vectors\n",
        "    \n",
        "    Arguments:\n",
        "        x_a (np.array): shape [m_features, ] a single vector a\n",
        "        x_b (np.array): shape [m_features, ] a single vector b\n",
        "    \n",
        "    Returns:\n",
        "        distance (float): Manhattan distance between vectors x_a and x_b\n",
        "    \"\"\"\n",
        "    return minkowskiDistance(x_a, x_b, 1)"
      ],
      "execution_count": 0,
      "outputs": []
    },
    {
      "cell_type": "code",
      "metadata": {
        "id": "kizXkhXNR542",
        "colab_type": "code",
        "colab": {}
      },
      "source": [
        "def chebyshevDistance(x_a, x_b):\n",
        "    \"\"\"\n",
        "    Calculates the Chebyshev distance between two vectors\n",
        "    \n",
        "    Arguments:\n",
        "        x_a (np.array): shape [m_features, ] a single vector a\n",
        "        x_b (np.array): shape [m_features, ] a single vector b\n",
        "    \n",
        "    Returns:\n",
        "        distance (float): Chebyshev distance between vectors x_a and x_b\n",
        "    \"\"\"\n",
        "    \n",
        "    distance = np.max( np.abs(x_a - x_b) ) \n",
        "    return distance"
      ],
      "execution_count": 0,
      "outputs": []
    },
    {
      "cell_type": "code",
      "metadata": {
        "id": "AbY4dzTwR7ZD",
        "colab_type": "code",
        "colab": {}
      },
      "source": [
        "def minkowskiDistance(x_a, x_b, p=2):\n",
        "    \"\"\"\n",
        "    Calculates the minkowski distance between two vectors\n",
        "    \n",
        "    Arguments:\n",
        "        x_a (np.array): shape [m_features, ] a single vector a\n",
        "        x_b (np.array): shape [m_features, ] a single vector b\n",
        "        p (int): Sets the Lp distance metric to use:\n",
        "            1 - Manhattan\n",
        "            2 - Euclidian \n",
        "            inf - Chebyshev\n",
        "    \n",
        "    Returns:\n",
        "        distance (float): Minkowski distance between vectors x_a and x_b\n",
        "    \"\"\"\n",
        "    \n",
        "    distance = np.sum(np.abs(x_a - x_b)**p)**(1/p)\n",
        "    return distance"
      ],
      "execution_count": 0,
      "outputs": []
    },
    {
      "cell_type": "code",
      "metadata": {
        "id": "YYy2Tsm-18EL",
        "colab_type": "code",
        "colab": {}
      },
      "source": [
        "def calculateDistances(x_test, X_in, distanceFunction):\n",
        "    \"\"\"\n",
        "    Calculates the distance between a single test example, x_test,\n",
        "    and a list of examples X_in. \n",
        "    \n",
        "    Args:\n",
        "        x_test (np.array): shape [n_features,] a single test example\n",
        "        X_in (np.array): shape [n_samples, n_features] a list of examples to compare against.\n",
        "    \n",
        "    Returns:\n",
        "        distance_list (list of float): The list containing the distances       \n",
        "    \"\"\"\n",
        "    \n",
        "    distance_list = []\n",
        "    for example in X_in:\n",
        "        distance_list.append(distanceFunction(example, x_test))\n",
        "    return distance_list"
      ],
      "execution_count": 0,
      "outputs": []
    },
    {
      "cell_type": "code",
      "metadata": {
        "id": "KsigGIIq_C-g",
        "colab_type": "code",
        "colab": {}
      },
      "source": [
        "def kNearestIndices(distance_list, k):\n",
        "    \"\"\"\n",
        "    Determines the indices of the k nearest neighbours\n",
        "    \n",
        "    Arguments:\n",
        "        distance_list (list of float): list of distances between a test point \n",
        "            and every training example\n",
        "        k (int): the number of nearest neighbours to consider\n",
        "    \n",
        "    Returns:\n",
        "        k_nearest_indices (array of int): shape [k,] array of the indices \n",
        "            corresponding to the k nearest neighbours\n",
        "    \"\"\"\n",
        "    \n",
        "    k_nearest_indices = np.array( np.argsort(distance_list)[:k] )\n",
        "    return k_nearest_indices"
      ],
      "execution_count": 0,
      "outputs": []
    },
    {
      "cell_type": "code",
      "metadata": {
        "id": "BkslmTWP_Ff4",
        "colab_type": "code",
        "colab": {}
      },
      "source": [
        "def kNearestNeighbours(k_nearest_indices, X_in, Y_in):\n",
        "    \"\"\"\n",
        "    Creates the dataset of k nearest neighbours\n",
        "    \n",
        "    Arguments:\n",
        "        k_nearest_indices (array of int): shape [k,] array of the indices \n",
        "            corresponding to the k nearest neighbours\n",
        "        X_in (array): shape [n_examples, n_features] the example data matrix to sample from\n",
        "        Y_in (array): shape [n_examples, ] the label data matrix to sample from\n",
        "    \n",
        "    Returns:\n",
        "        X_k (array): shape [k, n_features] the k nearest examples\n",
        "        Y_k (array): shape [k, ] the labels corresponding to the k nearest examples\n",
        "    \"\"\"\n",
        "    \n",
        "    X_k = []\n",
        "    Y_k = []\n",
        "\n",
        "    for i in k_nearest_indices:\n",
        "        X_k.append(X_in[i])\n",
        "        Y_k.append(Y_in[i])\n",
        "        \n",
        "    X_k = np.array(X_k)\n",
        "    Y_k = np.array(Y_k)\n",
        "    return X_k, Y_k"
      ],
      "execution_count": 0,
      "outputs": []
    },
    {
      "cell_type": "code",
      "metadata": {
        "id": "wzOAG3_I_L8t",
        "colab_type": "code",
        "colab": {}
      },
      "source": [
        "def predict(x_test, X_in, Y_in, k, distanceFunction):\n",
        "    \"\"\"\n",
        "    Predicts the class of a single test example\n",
        "    \n",
        "    Arguments:\n",
        "        x_test (np.array): shape [n_features, ] the test example to classify\n",
        "        X_in (np.array): shape [n_input_examples, n_features] the example data matrix to sample from\n",
        "        Y_in (np.array): shape [n_input_labels, ] the label data matrix to sample from\n",
        "    \n",
        "    Returns:\n",
        "        prediction (array): shape [1,] the number corresponding to the class \n",
        "    \"\"\"\n",
        "    \n",
        "    distance_list = calculateDistances(x_test, X_in, distanceFunction)\n",
        "    kNN_indices = kNearestIndices(distance_list, k)\n",
        "    X_k, Y_k = kNearestNeighbours(kNN_indices, X_in, Y_in)\n",
        "    prediction =  mode(Y_k, axis=None)[0]\n",
        "\n",
        "    return prediction"
      ],
      "execution_count": 0,
      "outputs": []
    },
    {
      "cell_type": "code",
      "metadata": {
        "id": "E30hROb9_RZ_",
        "colab_type": "code",
        "colab": {}
      },
      "source": [
        "def predictBatch(X_t, X_in, Y_in, k, distanceFunction):\n",
        "    \"\"\"\n",
        "    Performs predictions over a batch of test examples\n",
        "    \n",
        "    Arguments:\n",
        "        X_t (np.array): shape [n_test_examples, n_features]\n",
        "        X_in (np.array): shape [n_input_examples, n_features]\n",
        "        Y_in (np.array): shape [n_input_labels, ]\n",
        "        k (int): number of nearest neighbours to consider\n",
        "    \n",
        "    Returns:\n",
        "        predictions (np.array): shape [n_test_examples,] the array of predictions\n",
        "        \n",
        "    \"\"\"\n",
        "    predictions = []\n",
        "    for x_t_i in X_t:\n",
        "        predictions.append(predict(x_t_i, X_in, Y_in, k, distanceFunction)[0])\n",
        "    \n",
        "    return np.array(predictions)"
      ],
      "execution_count": 0,
      "outputs": []
    },
    {
      "cell_type": "code",
      "metadata": {
        "id": "0WR3rGUp_U0R",
        "colab_type": "code",
        "colab": {}
      },
      "source": [
        "def accuracy(Y_pred, Y_test):\n",
        "    \"\"\"\n",
        "    Calculates the accuracy of the model \n",
        "    \n",
        "    Arguments:\n",
        "        Y_pred (np.array): shape [n_test_examples,] an array of model predictions\n",
        "        Y_test (np.array): shape [n_test_labels,] an array of test labels to \n",
        "            evaluate the predictions against\n",
        "    \n",
        "    Returns:\n",
        "        accuracy (float): the accuracy of the model\n",
        "    \"\"\"\n",
        "    assert(Y_pred.shape == Y_test.shape)\n",
        "    \n",
        "    correct = 0\n",
        "    total = len(Y_test)\n",
        "\n",
        "    for i in range(total):\n",
        "        if (Y_pred[i] == Y_test[i]):\n",
        "            correct += 1\n",
        "    \n",
        "    accuracy = correct/total\n",
        "    return accuracy"
      ],
      "execution_count": 0,
      "outputs": []
    },
    {
      "cell_type": "code",
      "metadata": {
        "id": "LdgnzCID_XXZ",
        "colab_type": "code",
        "colab": {}
      },
      "source": [
        "def run(X_train, X_test, Y_train, Y_test, k, distanceFunction=euclideanDistance):\n",
        "    \"\"\"\n",
        "    Evaluates the model on the test data\n",
        "    \n",
        "    Arguments:\n",
        "        X_train (np.array): shape [n_train_examples, n_features]\n",
        "        X_test (np.array): shape [n_test_examples, n_features]\n",
        "        Y_train (np.array): shape [n_train_examples, ]\n",
        "        Y_test (np.array): shape [n_test_examples, ]\n",
        "        k (int): number of nearest neighbours to consider\n",
        "    \n",
        "    Returns:\n",
        "        test_accuracy (float): the final accuracy of your model \n",
        "    \"\"\"\n",
        "    Y_pred = predictBatch(X_test, X_train, Y_train, k, distanceFunction)\n",
        "    test_accuracy = accuracy(Y_pred, Y_test)\n",
        "\n",
        "    return test_accuracy"
      ],
      "execution_count": 0,
      "outputs": []
    },
    {
      "cell_type": "code",
      "metadata": {
        "id": "_VJBnVve_j0w",
        "colab_type": "code",
        "colab": {
          "base_uri": "https://localhost:8080/",
          "height": 34
        },
        "outputId": "2ec555ff-5411-4873-c244-276eaf86438e"
      },
      "source": [
        "print( run(X_iris_train, X_iris_test, Y_iris_train, Y_iris_test, 4, manhattanDistance) ) "
      ],
      "execution_count": 16,
      "outputs": [
        {
          "output_type": "stream",
          "text": [
            "0.9466666666666667\n"
          ],
          "name": "stdout"
        }
      ]
    },
    {
      "cell_type": "code",
      "metadata": {
        "id": "muIRS0p7U_Of",
        "colab_type": "code",
        "colab": {
          "base_uri": "https://localhost:8080/",
          "height": 34
        },
        "outputId": "e90fbbf5-af7d-4a57-b7de-4b12d77e64fb"
      },
      "source": [
        "print( run(X_iris_train, X_iris_test, Y_iris_train, Y_iris_test, 4, chebyshevDistance) ) "
      ],
      "execution_count": 17,
      "outputs": [
        {
          "output_type": "stream",
          "text": [
            "0.9733333333333334\n"
          ],
          "name": "stdout"
        }
      ]
    },
    {
      "cell_type": "code",
      "metadata": {
        "id": "9glHJciMVA55",
        "colab_type": "code",
        "colab": {
          "base_uri": "https://localhost:8080/",
          "height": 34
        },
        "outputId": "a8cbae17-4c9c-4d93-d5d4-d14b5a068b76"
      },
      "source": [
        "print( run(X_iris_train, X_iris_test, Y_iris_train, Y_iris_test, 4, euclideanDistance) ) "
      ],
      "execution_count": 18,
      "outputs": [
        {
          "output_type": "stream",
          "text": [
            "0.96\n"
          ],
          "name": "stdout"
        }
      ]
    },
    {
      "cell_type": "code",
      "metadata": {
        "id": "fpVt68mPTG3a",
        "colab_type": "code",
        "colab": {
          "base_uri": "https://localhost:8080/",
          "height": 34
        },
        "outputId": "50a91df1-f5b8-4424-d738-bc1c765677fb"
      },
      "source": [
        "row1 = np.array([10, 20, 15, 10, 5])\n",
        "row2 = np.array([12, 24, 18, 8, 7])\n",
        "print(chebyshevDistance(row1, row2))"
      ],
      "execution_count": 19,
      "outputs": [
        {
          "output_type": "stream",
          "text": [
            "4\n"
          ],
          "name": "stdout"
        }
      ]
    },
    {
      "cell_type": "code",
      "metadata": {
        "id": "atLTe0ElTLnN",
        "colab_type": "code",
        "colab": {
          "base_uri": "https://localhost:8080/",
          "height": 34
        },
        "outputId": "211a087d-ae4b-49f7-8ef9-e5507133e719"
      },
      "source": [
        "row1 = np.array([0, 3, 4, 5])\n",
        "row2 = np.array([7, 6, 3, -1])\n",
        "print(chebyshevDistance(row1, row2))"
      ],
      "execution_count": 20,
      "outputs": [
        {
          "output_type": "stream",
          "text": [
            "7\n"
          ],
          "name": "stdout"
        }
      ]
    },
    {
      "cell_type": "code",
      "metadata": {
        "id": "yJOQ5m1FT9UN",
        "colab_type": "code",
        "colab": {}
      },
      "source": [
        ""
      ],
      "execution_count": 0,
      "outputs": []
    }
  ]
}